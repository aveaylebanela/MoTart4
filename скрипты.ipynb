{
 "cells": [
  {
   "cell_type": "code",
   "execution_count": 10,
   "metadata": {},
   "outputs": [],
   "source": [
    "import os\n",
    "import pandas as pd\n",
    "\n",
    "#например\n",
    "#directory = 'Archive-1/csv/'\n",
    "\n",
    "# склеивает все файлы в директории в один csv, если попадается не csv на вход – ломается\n",
    "# возможна проблема со скрытыми директориями на не маках\n",
    "def take_two_make_one(directory):\n",
    "    files = os.listdir(directory)\n",
    "    ds = pd.DataFrame()\n",
    "    for file in files:\n",
    "        if file[0]=='.':\n",
    "            continue\n",
    "        f = pd.read_csv(directory + file)\n",
    "        ds = pd.concat([ds, f])\n",
    "    ds.to_csv(merged_ds.csv, sep=',')"
   ]
  },
  {
   "cell_type": "markdown",
   "metadata": {},
   "source": [
    "###  Если возникает ошибка парсера приоткрытии csv – скорее всего дело в разделителе\n",
    "##### чинится как-то так: sep = '\\t'"
   ]
  },
  {
   "cell_type": "code",
   "execution_count": 74,
   "metadata": {},
   "outputs": [],
   "source": [
    "#подставить название датасета\n",
    "#ds = pd.read_csv('some_ds.csv')\n",
    "def age(ds):\n",
    "    age = []\n",
    "    for row in range(len(ds)):\n",
    "        try:\n",
    "            dob = int(ds['dob'][row])\n",
    "            entry_date = int(ds['entry_date'][row])\n",
    "            age.append(entry_date - dob)\n",
    "        except ValueError:\n",
    "            age.append(0)\n",
    "    ds['age'] = age"
   ]
  },
  {
   "cell_type": "code",
   "execution_count": 58,
   "metadata": {},
   "outputs": [],
   "source": [
    "import os\n",
    "#Внимание, здесь, кажется, могут возникнуть проблемы со слешами на не маке\n",
    "def take_one_make_a_lot(file):\n",
    "    file = pd.read_csv(file)\n",
    "    os.mkdir('txt_files')\n",
    "    c = 0\n",
    "    for i in enumerate(file):\n",
    "        text = file['text'][i[0]]\n",
    "        f = open('txt_files/' + file[:-4] + str(c) + '.txt', 'w')\n",
    "        f.write(text)\n",
    "        f.close\n",
    "        c+=1"
   ]
  }
 ],
 "metadata": {
  "kernelspec": {
   "display_name": "Python 3",
   "language": "python",
   "name": "python3"
  },
  "language_info": {
   "codemirror_mode": {
    "name": "ipython",
    "version": 3
   },
   "file_extension": ".py",
   "mimetype": "text/x-python",
   "name": "python",
   "nbconvert_exporter": "python",
   "pygments_lexer": "ipython3",
   "version": "3.7.0"
  }
 },
 "nbformat": 4,
 "nbformat_minor": 2
}
